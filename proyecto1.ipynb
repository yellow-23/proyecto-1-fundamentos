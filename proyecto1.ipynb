{
 "cells": [
  {
   "cell_type": "code",
   "execution_count": null,
   "id": "f51a3d91",
   "metadata": {},
   "outputs": [],
   "source": [
    "#proyecto 1"
   ]
  },
  {
   "cell_type": "code",
   "execution_count": null,
   "id": "9f6c496d",
   "metadata": {},
   "outputs": [],
   "source": []
  }
 ],
 "metadata": {
  "language_info": {
   "name": "python"
  }
 },
 "nbformat": 4,
 "nbformat_minor": 5
}
